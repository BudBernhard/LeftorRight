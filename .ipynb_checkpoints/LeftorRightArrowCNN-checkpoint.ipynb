{
 "cells": [
  {
   "cell_type": "code",
   "execution_count": null,
   "metadata": {},
   "outputs": [],
   "source": [
    "# !pip install hashlib\n",
    "# !pip install requests"
   ]
  },
  {
   "cell_type": "code",
   "execution_count": 1,
   "metadata": {
    "ExecuteTime": {
     "end_time": "2020-01-21T20:23:29.108907Z",
     "start_time": "2020-01-21T20:23:21.377020Z"
    }
   },
   "outputs": [
    {
     "name": "stderr",
     "output_type": "stream",
     "text": [
      "Using TensorFlow backend.\n"
     ]
    }
   ],
   "source": [
    "import os\n",
    "import time\n",
    "import requests\n",
    "import io\n",
    "import shutil\n",
    "import pandas as pd\n",
    "from PIL import Image\n",
    "import selenium\n",
    "from selenium import webdriver\n",
    "import hashlib\n",
    "import matplotlib.pyplot as plt\n",
    "import scipy\n",
    "import numpy as np\n",
    "from scipy import ndimage\n",
    "\n",
    "import keras\n",
    "from keras.preprocessing.image import ImageDataGenerator, array_to_img, img_to_array, load_img\n",
    "from keras import models\n",
    "from keras import layers\n",
    "\n",
    "from keras.models import Sequential\n",
    "from keras.layers import Conv2D, MaxPooling2D\n",
    "from keras.layers import Activation, Dropout, Flatten, Dense\n",
    "from keras.layers import Dropout, Input\n",
    "\n",
    "from keras import backend as K\n",
    "\n",
    "import matplotlib.image as mpimg\n"
   ]
  },
  {
   "cell_type": "markdown",
   "metadata": {},
   "source": [
    "## Download Left and Right images from the NounProject "
   ]
  },
  {
   "cell_type": "markdown",
   "metadata": {},
   "source": [
    "## Organize where the images are stored for splitting purposes."
   ]
  },
  {
   "cell_type": "code",
   "execution_count": 2,
   "metadata": {
    "ExecuteTime": {
     "end_time": "2020-01-21T20:23:29.113879Z",
     "start_time": "2020-01-21T20:23:29.109912Z"
    }
   },
   "outputs": [],
   "source": [
    "images_right_dir = 'images/right_arrow/'\n",
    "images_left_dir = 'images/left_arrow/'\n",
    "new_dir = 'split/'"
   ]
  },
  {
   "cell_type": "code",
   "execution_count": 3,
   "metadata": {
    "ExecuteTime": {
     "end_time": "2020-01-21T20:23:29.156795Z",
     "start_time": "2020-01-21T20:23:29.115891Z"
    }
   },
   "outputs": [],
   "source": [
    "images_right = [file for file in os.listdir(images_right_dir) if file.endswith('.png')]"
   ]
  },
  {
   "cell_type": "code",
   "execution_count": 4,
   "metadata": {
    "ExecuteTime": {
     "end_time": "2020-01-21T20:23:29.164860Z",
     "start_time": "2020-01-21T20:23:29.158765Z"
    }
   },
   "outputs": [
    {
     "data": {
      "text/plain": [
       "['000273ee5d.png',\n",
       " '0012ef1aba.png',\n",
       " '008aca9269.png',\n",
       " '011791b519.png',\n",
       " '0127a213d4.png',\n",
       " '01945daea4.png',\n",
       " '01ed679155.png',\n",
       " '021e7347ff.png',\n",
       " '023ea354f5.png',\n",
       " '024542b238.png']"
      ]
     },
     "execution_count": 4,
     "metadata": {},
     "output_type": "execute_result"
    }
   ],
   "source": [
    "images_right[0:10]"
   ]
  },
  {
   "cell_type": "code",
   "execution_count": null,
   "metadata": {},
   "outputs": [],
   "source": []
  },
  {
   "cell_type": "code",
   "execution_count": 5,
   "metadata": {
    "ExecuteTime": {
     "end_time": "2020-01-21T20:23:29.177714Z",
     "start_time": "2020-01-21T20:23:29.166737Z"
    },
    "scrolled": true
   },
   "outputs": [
    {
     "name": "stdout",
     "output_type": "stream",
     "text": [
      "There are 1064 right arrow images\n"
     ]
    }
   ],
   "source": [
    "print('There are',len(images_right), 'right arrow images')"
   ]
  },
  {
   "cell_type": "code",
   "execution_count": 6,
   "metadata": {
    "ExecuteTime": {
     "end_time": "2020-01-21T20:23:29.208663Z",
     "start_time": "2020-01-21T20:23:29.179712Z"
    }
   },
   "outputs": [],
   "source": [
    "images_left = [file for file in os.listdir(images_left_dir) if file.endswith('.png')]"
   ]
  },
  {
   "cell_type": "code",
   "execution_count": 7,
   "metadata": {
    "ExecuteTime": {
     "end_time": "2020-01-21T20:23:29.214633Z",
     "start_time": "2020-01-21T20:23:29.210643Z"
    }
   },
   "outputs": [
    {
     "name": "stdout",
     "output_type": "stream",
     "text": [
      "There are 1015 left arrow images\n"
     ]
    }
   ],
   "source": [
    "print('There are',len(images_left), 'left arrow images')"
   ]
  },
  {
   "cell_type": "markdown",
   "metadata": {
    "ExecuteTime": {
     "end_time": "2020-01-15T15:26:38.855104Z",
     "start_time": "2020-01-15T15:26:38.851114Z"
    }
   },
   "source": [
    "#### Created Split directory"
   ]
  },
  {
   "cell_type": "code",
   "execution_count": 8,
   "metadata": {
    "ExecuteTime": {
     "end_time": "2020-01-21T20:23:30.758788Z",
     "start_time": "2020-01-21T20:23:30.751772Z"
    }
   },
   "outputs": [],
   "source": [
    "train_folder = os.path.join(new_dir, 'train')\n",
    "train_right = os.path.join(train_folder, 'right')\n",
    "train_left = os.path.join(train_folder, 'left')\n",
    "\n",
    "test_folder = os.path.join(new_dir, 'test')\n",
    "test_right = os.path.join(test_folder, 'right')\n",
    "test_left = os.path.join(test_folder, 'left')\n",
    "\n",
    "val_folder = os.path.join(new_dir, 'validation')\n",
    "val_right = os.path.join(val_folder, 'right')\n",
    "val_left = os.path.join(val_folder, 'left')"
   ]
  },
  {
   "cell_type": "code",
   "execution_count": 9,
   "metadata": {
    "ExecuteTime": {
     "end_time": "2020-01-21T20:23:31.336676Z",
     "start_time": "2020-01-21T20:23:31.333602Z"
    }
   },
   "outputs": [],
   "source": [
    "# os.mkdir(test_folder)\n",
    "# os.mkdir(test_right)\n",
    "# os.mkdir(test_left)\n",
    "\n",
    "# os.mkdir(train_folder)\n",
    "# os.mkdir(train_right)\n",
    "# os.mkdir(train_left)\n",
    "\n",
    "# os.mkdir(val_folder)\n",
    "# os.mkdir(val_right)\n",
    "# os.mkdir(val_left)"
   ]
  },
  {
   "cell_type": "code",
   "execution_count": 10,
   "metadata": {
    "ExecuteTime": {
     "end_time": "2020-01-21T20:23:33.794929Z",
     "start_time": "2020-01-21T20:23:31.774237Z"
    }
   },
   "outputs": [],
   "source": [
    "# train right\n",
    "imgs = images_right[:700]\n",
    "for img in imgs:\n",
    "    origin = os.path.join(images_right_dir, img)\n",
    "    destination = os.path.join(train_right, img)\n",
    "    shutil.copyfile(origin, destination)\n",
    "\n",
    "# validation right\n",
    "imgs = images_right[700:900]\n",
    "for img in imgs:\n",
    "    origin = os.path.join(images_right_dir, img)\n",
    "    destination = os.path.join(val_right, img)\n",
    "    shutil.copyfile(origin, destination)\n",
    "    \n",
    "# test right\n",
    "imgs = images_right[900:]\n",
    "for img in imgs:\n",
    "    origin = os.path.join(images_right_dir, img)\n",
    "    destination = os.path.join(test_right, img)\n",
    "    shutil.copyfile(origin, destination)    "
   ]
  },
  {
   "cell_type": "code",
   "execution_count": 11,
   "metadata": {
    "ExecuteTime": {
     "end_time": "2020-01-21T20:23:35.674245Z",
     "start_time": "2020-01-21T20:23:33.796899Z"
    }
   },
   "outputs": [],
   "source": [
    "# train left\n",
    "imgs = images_left[:700]\n",
    "for img in imgs:\n",
    "    origin = os.path.join(images_left_dir, img)\n",
    "    destination = os.path.join(train_left, img)\n",
    "    shutil.copyfile(origin, destination)\n",
    "# validation left\n",
    "imgs = images_left[700:900]\n",
    "for img in imgs:\n",
    "    origin = os.path.join(images_left_dir, img)\n",
    "    destination = os.path.join(val_left, img)\n",
    "    shutil.copyfile(origin, destination)\n",
    "# test left\n",
    "imgs = images_left[900:]\n",
    "for img in imgs:\n",
    "    origin = os.path.join(images_left_dir, img)\n",
    "    destination = os.path.join(test_left, img)\n",
    "    shutil.copyfile(origin, destination)"
   ]
  },
  {
   "cell_type": "code",
   "execution_count": 12,
   "metadata": {
    "ExecuteTime": {
     "end_time": "2020-01-21T20:23:35.680198Z",
     "start_time": "2020-01-21T20:23:35.676233Z"
    }
   },
   "outputs": [],
   "source": [
    "#Removed image array exploration section to EDA_Left_Right_Arrows.ipynb"
   ]
  },
  {
   "cell_type": "code",
   "execution_count": 13,
   "metadata": {
    "ExecuteTime": {
     "end_time": "2020-01-21T20:23:36.035249Z",
     "start_time": "2020-01-21T20:23:35.683191Z"
    }
   },
   "outputs": [
    {
     "name": "stdout",
     "output_type": "stream",
     "text": [
      "Found 282 images belonging to 2 classes.\n",
      "Found 401 images belonging to 2 classes.\n",
      "Found 1411 images belonging to 2 classes.\n"
     ]
    }
   ],
   "source": [
    "# get all the data in the directory split/test (280 images), and reshape them\n",
    "test_generator = ImageDataGenerator().flow_from_directory(\n",
    "        test_folder, classes =  ['Right', 'Left'],\n",
    "        color_mode=\"rgba\", target_size=(200, 200), batch_size = 280) \n",
    "\n",
    "# get all the data in the directory split/validation (400 images), and reshape them\n",
    "val_generator = ImageDataGenerator().flow_from_directory(\n",
    "        val_folder, classes =  ['Right', 'Left'],\n",
    "        color_mode=\"rgba\", target_size=(200, 200), batch_size = 400)\n",
    "\n",
    "# get all the data in the directory split/train (1400 images), and reshape them\n",
    "train_generator = ImageDataGenerator().flow_from_directory(\n",
    "        train_folder, classes =  ['Right', 'Left'],\n",
    "        color_mode=\"rgba\", target_size=(200, 200), batch_size=1400)"
   ]
  },
  {
   "cell_type": "code",
   "execution_count": 14,
   "metadata": {
    "ExecuteTime": {
     "end_time": "2020-01-21T20:23:36.041233Z",
     "start_time": "2020-01-21T20:23:36.037242Z"
    }
   },
   "outputs": [],
   "source": [
    "# Note that here I'd like to remove the three columns that are unnecerssay, RGB, since the only column with values is the Alpha of RGBA"
   ]
  },
  {
   "cell_type": "code",
   "execution_count": 15,
   "metadata": {
    "ExecuteTime": {
     "end_time": "2020-01-21T20:23:40.207972Z",
     "start_time": "2020-01-21T20:23:36.137975Z"
    }
   },
   "outputs": [],
   "source": [
    "train_images, train_labels = next(train_generator)\n",
    "test_images, test_labels = next(test_generator)\n",
    "val_images, val_labels = next(val_generator)"
   ]
  },
  {
   "cell_type": "code",
   "execution_count": 16,
   "metadata": {
    "ExecuteTime": {
     "end_time": "2020-01-21T20:23:43.683569Z",
     "start_time": "2020-01-21T20:23:43.676587Z"
    }
   },
   "outputs": [
    {
     "data": {
      "text/plain": [
       "array([0., 0., 0., 0.], dtype=float32)"
      ]
     },
     "execution_count": 16,
     "metadata": {},
     "output_type": "execute_result"
    }
   ],
   "source": [
    "# Three nested for loops then delete first 3 elements. Try on the first and proceed from there. \n",
    "train_images[0][0][0]"
   ]
  },
  {
   "cell_type": "code",
   "execution_count": 17,
   "metadata": {
    "ExecuteTime": {
     "end_time": "2020-01-21T20:24:24.911867Z",
     "start_time": "2020-01-21T20:24:24.906844Z"
    }
   },
   "outputs": [],
   "source": [
    "# # Explore your dataset again\n",
    "# m_train = train_images.shape[0]\n",
    "# num_px = train_images.shape[1]\n",
    "# m_test = test_images.shape[0]\n",
    "# m_val = val_images.shape[0]\n",
    "\n",
    "# print (\"Number of training samples: \" + str(m_train))\n",
    "# print (\"Number of testing samples: \" + str(m_test))\n",
    "# print (\"Number of validation samples: \" + str(m_val))\n",
    "# print (\"train_images shape: \" + str(train_images.shape))\n",
    "# print (\"train_labels shape: \" + str(train_labels.shape))\n",
    "# print (\"test_images shape: \" + str(test_images.shape))\n",
    "# print (\"test_labels shape: \" + str(test_labels.shape))\n",
    "# print (\"val_images shape: \" + str(val_images.shape))\n",
    "# print (\"val_labels shape: \" + str(val_labels.shape))"
   ]
  },
  {
   "cell_type": "code",
   "execution_count": 18,
   "metadata": {
    "ExecuteTime": {
     "end_time": "2020-01-21T20:24:25.413481Z",
     "start_time": "2020-01-21T20:24:25.410467Z"
    }
   },
   "outputs": [],
   "source": [
    "# train_img = train_images.reshape(train_images.shape[0], -1)\n",
    "# train_img = train_images.reshape(train_images.shape[0], -1)\n",
    "# test_img = test_images.reshape(test_images.shape[0], -1)\n",
    "# val_img = val_images.reshape(val_images.shape[0], -1)\n",
    "\n",
    "# print(train_images.shape)\n",
    "# print(train_img.shape)\n",
    "# print(test_img.shape)\n",
    "# print(val_img.shape)"
   ]
  },
  {
   "cell_type": "code",
   "execution_count": 19,
   "metadata": {
    "ExecuteTime": {
     "end_time": "2020-01-21T20:24:29.576643Z",
     "start_time": "2020-01-21T20:24:29.569644Z"
    }
   },
   "outputs": [
    {
     "name": "stdout",
     "output_type": "stream",
     "text": [
      "(1400, 2)\n",
      "train labels final: (1400, 1)\n",
      "test labels final: (280, 1)\n",
      "test labels final: (280, 1)\n"
     ]
    }
   ],
   "source": [
    "train_y = np.reshape(np.flip(train_labels, axis=1)[:,0], (1400,1))\n",
    "print(train_labels.shape)\n",
    "print('train labels final:', np.shape(train_y))\n",
    "test_y = np.reshape(np.flip(test_labels, axis=1)[:,0], (280,1))\n",
    "print('test labels final:', np.shape(test_y))\n",
    "val_y = np.reshape(np.flip(val_labels, axis=1)[:,0], (400,1))\n",
    "print('test labels final:', np.shape(test_y))\n",
    "# train_y = train_labels.T[[1]]\n",
    "# test_y = test_labels.T[[1]]\n",
    "# val_y = val_labels.T[[1]]"
   ]
  },
  {
   "cell_type": "code",
   "execution_count": 20,
   "metadata": {
    "ExecuteTime": {
     "end_time": "2020-01-21T20:24:31.666483Z",
     "start_time": "2020-01-21T20:24:31.661521Z"
    }
   },
   "outputs": [
    {
     "name": "stdout",
     "output_type": "stream",
     "text": [
      "(1400, 1)\n"
     ]
    }
   ],
   "source": [
    "print(train_y.shape)"
   ]
  },
  {
   "cell_type": "code",
   "execution_count": 21,
   "metadata": {
    "ExecuteTime": {
     "end_time": "2020-01-21T20:24:32.139041Z",
     "start_time": "2020-01-21T20:24:32.135019Z"
    }
   },
   "outputs": [
    {
     "data": {
      "text/plain": [
       "{'Right': 0, 'Left': 1}"
      ]
     },
     "execution_count": 21,
     "metadata": {},
     "output_type": "execute_result"
    }
   ],
   "source": [
    "train_generator.class_indices\n"
   ]
  },
  {
   "cell_type": "code",
   "execution_count": 22,
   "metadata": {
    "ExecuteTime": {
     "end_time": "2020-01-21T20:24:33.064483Z",
     "start_time": "2020-01-21T20:24:33.059495Z"
    }
   },
   "outputs": [
    {
     "data": {
      "text/plain": [
       "(200, 200, 4)"
      ]
     },
     "execution_count": 22,
     "metadata": {},
     "output_type": "execute_result"
    }
   ],
   "source": [
    "train_images[100].shape"
   ]
  },
  {
   "cell_type": "code",
   "execution_count": 23,
   "metadata": {
    "ExecuteTime": {
     "end_time": "2020-01-21T20:24:34.290646Z",
     "start_time": "2020-01-21T20:24:34.279678Z"
    }
   },
   "outputs": [
    {
     "data": {
      "image/png": "[encoded data removed]",
      "text/plain": [
       "<PIL.Image.Image image mode=RGBA size=200x200 at 0x2725BAA05C0>"
      ]
     },
     "execution_count": 23,
     "metadata": {},
     "output_type": "execute_result"
    }
   ],
   "source": [
    "array_to_img(train_images[100])"
   ]
  },
  {
   "cell_type": "code",
   "execution_count": 45,
   "metadata": {
    "ExecuteTime": {
     "end_time": "2020-01-21T21:48:05.612097Z",
     "start_time": "2020-01-21T21:48:05.602884Z"
    }
   },
   "outputs": [
    {
     "name": "stdout",
     "output_type": "stream",
     "text": [
      "(1400, 1)\n",
      "[0.]\n"
     ]
    },
    {
     "data": {
      "text/plain": [
       "{0.0: 200, 1.0: 200}"
      ]
     },
     "execution_count": 45,
     "metadata": {},
     "output_type": "execute_result"
    }
   ],
   "source": [
    "print(train_y.shape)\n",
    "print(train_y[100])\n",
    "unique, counts = np.unique(val_y, return_counts=True)\n",
    "dict(zip(unique, counts))"
   ]
  },
  {
   "cell_type": "code",
   "execution_count": null,
   "metadata": {},
   "outputs": [],
   "source": []
  },
  {
   "cell_type": "code",
   "execution_count": null,
   "metadata": {},
   "outputs": [],
   "source": []
  },
  {
   "cell_type": "markdown",
   "metadata": {},
   "source": [
    "## Rough Model"
   ]
  },
  {
   "cell_type": "code",
   "execution_count": 39,
   "metadata": {
    "ExecuteTime": {
     "end_time": "2020-01-21T21:10:44.187646Z",
     "start_time": "2020-01-21T21:10:44.174696Z"
    }
   },
   "outputs": [],
   "source": [
    "# Return a new model with the given activation\n",
    "def get_model(act_function):\n",
    "    model = models.Sequential()\n",
    "    model.add(layers.Conv2D(24, (3, 3), activation=act_function,\n",
    "                        input_shape=(200 ,200,  4)))\n",
    "    model.add(layers.MaxPooling2D((2, 2)))\n",
    "\n",
    "    model.add(layers.Flatten())\n",
    "    \n",
    "    model.add(Dense(32, input_shape=(160000,), activation=act_function))\n",
    "    model.add(Dense(4, input_shape=(160000,), activation=act_function))\n",
    "    model.add(Dense(4, input_shape=(160000,), activation=act_function))\n",
    "    model.add(Dense(1, activation='sigmoid'))\n",
    "\n",
    "    \n",
    "    model.compile(loss='binary_crossentropy',\n",
    "              optimizer='Adam',\n",
    "              metrics=['accuracy'])\n",
    "    return model"
   ]
  },
  {
   "cell_type": "code",
   "execution_count": 40,
   "metadata": {
    "ExecuteTime": {
     "end_time": "2020-01-21T21:13:46.833778Z",
     "start_time": "2020-01-21T21:10:44.787019Z"
    }
   },
   "outputs": [
    {
     "name": "stdout",
     "output_type": "stream",
     "text": [
      "Model: \"sequential_2\"\n",
      "_________________________________________________________________\n",
      "Layer (type)                 Output Shape              Param #   \n",
      "=================================================================\n",
      "conv2d_3 (Conv2D)            (None, 198, 198, 24)      888       \n",
      "_________________________________________________________________\n",
      "max_pooling2d_3 (MaxPooling2 (None, 99, 99, 24)        0         \n",
      "_________________________________________________________________\n",
      "flatten_2 (Flatten)          (None, 235224)            0         \n",
      "_________________________________________________________________\n",
      "dense_6 (Dense)              (None, 32)                7527200   \n",
      "_________________________________________________________________\n",
      "dense_7 (Dense)              (None, 4)                 132       \n",
      "_________________________________________________________________\n",
      "dense_8 (Dense)              (None, 4)                 20        \n",
      "_________________________________________________________________\n",
      "dense_9 (Dense)              (None, 1)                 5         \n",
      "=================================================================\n",
      "Total params: 7,528,245\n",
      "Trainable params: 7,528,245\n",
      "Non-trainable params: 0\n",
      "_________________________________________________________________\n",
      "Train on 1400 samples, validate on 280 samples\n",
      "Epoch 1/50\n",
      "1400/1400 [==============================] - 5s 3ms/step - loss: 0.7078 - accuracy: 0.4921 - val_loss: 0.6907 - val_accuracy: 0.4214\n",
      "Epoch 2/50\n",
      "1400/1400 [==============================] - 4s 3ms/step - loss: 0.7191 - accuracy: 0.4993 - val_loss: 0.6932 - val_accuracy: 0.4179\n",
      "Epoch 3/50\n",
      "1400/1400 [==============================] - 4s 3ms/step - loss: 0.6932 - accuracy: 0.4971 - val_loss: 0.6932 - val_accuracy: 0.4179\n",
      "Epoch 4/50\n",
      "1400/1400 [==============================] - 4s 3ms/step - loss: 0.6932 - accuracy: 0.5043 - val_loss: 0.6930 - val_accuracy: 0.5821\n",
      "Epoch 5/50\n",
      "1400/1400 [==============================] - 4s 3ms/step - loss: 0.6932 - accuracy: 0.5029 - val_loss: 0.6928 - val_accuracy: 0.5821\n",
      "Epoch 6/50\n",
      "1400/1400 [==============================] - 4s 3ms/step - loss: 0.6932 - accuracy: 0.5029 - val_loss: 0.6928 - val_accuracy: 0.5821\n",
      "Epoch 7/50\n",
      "1400/1400 [==============================] - 4s 3ms/step - loss: 0.6932 - accuracy: 0.5029 - val_loss: 0.6929 - val_accuracy: 0.5821\n",
      "Epoch 8/50\n",
      "1400/1400 [==============================] - 4s 3ms/step - loss: 0.6932 - accuracy: 0.5029 - val_loss: 0.6927 - val_accuracy: 0.5821\n",
      "Epoch 9/50\n",
      "1400/1400 [==============================] - 4s 3ms/step - loss: 0.6932 - accuracy: 0.5029 - val_loss: 0.6927 - val_accuracy: 0.5821\n",
      "Epoch 10/50\n",
      "1400/1400 [==============================] - 4s 3ms/step - loss: 0.6932 - accuracy: 0.5029 - val_loss: 0.6926 - val_accuracy: 0.5821\n",
      "Epoch 11/50\n",
      "1400/1400 [==============================] - 4s 3ms/step - loss: 0.6932 - accuracy: 0.5029 - val_loss: 0.6924 - val_accuracy: 0.5821\n",
      "Epoch 12/50\n",
      "1400/1400 [==============================] - 4s 3ms/step - loss: 0.6932 - accuracy: 0.5029 - val_loss: 0.6924 - val_accuracy: 0.5821\n",
      "Epoch 13/50\n",
      "1400/1400 [==============================] - 4s 3ms/step - loss: 0.6931 - accuracy: 0.5029 - val_loss: 0.6925 - val_accuracy: 0.5821\n",
      "Epoch 14/50\n",
      "1400/1400 [==============================] - 4s 3ms/step - loss: 0.6932 - accuracy: 0.5029 - val_loss: 0.6925 - val_accuracy: 0.5821\n",
      "Epoch 15/50\n",
      "1400/1400 [==============================] - 4s 3ms/step - loss: 0.6932 - accuracy: 0.5029 - val_loss: 0.6924 - val_accuracy: 0.5821\n",
      "Epoch 16/50\n",
      "1400/1400 [==============================] - 4s 3ms/step - loss: 0.6932 - accuracy: 0.5029 - val_loss: 0.6926 - val_accuracy: 0.5821\n",
      "Epoch 17/50\n",
      "1400/1400 [==============================] - 4s 3ms/step - loss: 0.6932 - accuracy: 0.5029 - val_loss: 0.6923 - val_accuracy: 0.5821\n",
      "Epoch 18/50\n",
      "1400/1400 [==============================] - 3s 2ms/step - loss: 0.6931 - accuracy: 0.5029 - val_loss: 0.6923 - val_accuracy: 0.5821\n",
      "Epoch 19/50\n",
      "1400/1400 [==============================] - 3s 2ms/step - loss: 0.6932 - accuracy: 0.5029 - val_loss: 0.6924 - val_accuracy: 0.5821\n",
      "Epoch 20/50\n",
      "1400/1400 [==============================] - 4s 3ms/step - loss: 0.6932 - accuracy: 0.5029 - val_loss: 0.6926 - val_accuracy: 0.5821\n",
      "Epoch 21/50\n",
      "1400/1400 [==============================] - 4s 3ms/step - loss: 0.6932 - accuracy: 0.5029 - val_loss: 0.6924 - val_accuracy: 0.5821\n",
      "Epoch 22/50\n",
      "1400/1400 [==============================] - 4s 3ms/step - loss: 0.6932 - accuracy: 0.5029 - val_loss: 0.6925 - val_accuracy: 0.5821\n",
      "Epoch 23/50\n",
      "1400/1400 [==============================] - 3s 2ms/step - loss: 0.6932 - accuracy: 0.5029 - val_loss: 0.6924 - val_accuracy: 0.5821\n",
      "Epoch 24/50\n",
      "1400/1400 [==============================] - 3s 2ms/step - loss: 0.6932 - accuracy: 0.5029 - val_loss: 0.6924 - val_accuracy: 0.5821\n",
      "Epoch 25/50\n",
      "1400/1400 [==============================] - 3s 2ms/step - loss: 0.6931 - accuracy: 0.5029 - val_loss: 0.6922 - val_accuracy: 0.5821\n",
      "Epoch 26/50\n",
      "1400/1400 [==============================] - 3s 2ms/step - loss: 0.6932 - accuracy: 0.5029 - val_loss: 0.6920 - val_accuracy: 0.5821\n",
      "Epoch 27/50\n",
      "1400/1400 [==============================] - 3s 2ms/step - loss: 0.6932 - accuracy: 0.5029 - val_loss: 0.6920 - val_accuracy: 0.5821\n",
      "Epoch 28/50\n",
      "1400/1400 [==============================] - 4s 3ms/step - loss: 0.6932 - accuracy: 0.5029 - val_loss: 0.6924 - val_accuracy: 0.5821\n",
      "Epoch 29/50\n",
      "1400/1400 [==============================] - 4s 3ms/step - loss: 0.6931 - accuracy: 0.5029 - val_loss: 0.6923 - val_accuracy: 0.5821\n",
      "Epoch 30/50\n",
      "1400/1400 [==============================] - 4s 3ms/step - loss: 0.6931 - accuracy: 0.5029 - val_loss: 0.6923 - val_accuracy: 0.5821\n",
      "Epoch 31/50\n",
      "1400/1400 [==============================] - 4s 3ms/step - loss: 0.6932 - accuracy: 0.5029 - val_loss: 0.6925 - val_accuracy: 0.5821\n",
      "Epoch 32/50\n",
      "1400/1400 [==============================] - 4s 3ms/step - loss: 0.6932 - accuracy: 0.5029 - val_loss: 0.6920 - val_accuracy: 0.5821\n",
      "Epoch 33/50\n",
      "1400/1400 [==============================] - 4s 3ms/step - loss: 0.6932 - accuracy: 0.5029 - val_loss: 0.6921 - val_accuracy: 0.5821\n",
      "Epoch 34/50\n",
      "1400/1400 [==============================] - 4s 3ms/step - loss: 0.6932 - accuracy: 0.5029 - val_loss: 0.6925 - val_accuracy: 0.5821\n",
      "Epoch 35/50\n",
      "1400/1400 [==============================] - 4s 3ms/step - loss: 0.6932 - accuracy: 0.5029 - val_loss: 0.6921 - val_accuracy: 0.5821\n",
      "Epoch 36/50\n",
      "1400/1400 [==============================] - 4s 3ms/step - loss: 0.6932 - accuracy: 0.5029 - val_loss: 0.6919 - val_accuracy: 0.5821\n",
      "Epoch 37/50\n",
      "1400/1400 [==============================] - 4s 3ms/step - loss: 0.6932 - accuracy: 0.5029 - val_loss: 0.6922 - val_accuracy: 0.5821\n",
      "Epoch 38/50\n",
      "1400/1400 [==============================] - 4s 3ms/step - loss: 0.6932 - accuracy: 0.5029 - val_loss: 0.6923 - val_accuracy: 0.5821\n",
      "Epoch 39/50\n",
      "1400/1400 [==============================] - 3s 2ms/step - loss: 0.6932 - accuracy: 0.5029 - val_loss: 0.6925 - val_accuracy: 0.5821\n",
      "Epoch 40/50\n",
      "1400/1400 [==============================] - 3s 2ms/step - loss: 0.6931 - accuracy: 0.5029 - val_loss: 0.6922 - val_accuracy: 0.5821\n",
      "Epoch 41/50\n",
      "1400/1400 [==============================] - 4s 3ms/step - loss: 0.6931 - accuracy: 0.5029 - val_loss: 0.6921 - val_accuracy: 0.5821\n",
      "Epoch 42/50\n",
      "1400/1400 [==============================] - 3s 2ms/step - loss: 0.6932 - accuracy: 0.5029 - val_loss: 0.6921 - val_accuracy: 0.5821\n",
      "Epoch 43/50\n",
      "1400/1400 [==============================] - 4s 3ms/step - loss: 0.6932 - accuracy: 0.5029 - val_loss: 0.6923 - val_accuracy: 0.5821\n",
      "Epoch 44/50\n",
      "1400/1400 [==============================] - 3s 2ms/step - loss: 0.6931 - accuracy: 0.5029 - val_loss: 0.6922 - val_accuracy: 0.5821\n",
      "Epoch 45/50\n",
      "1400/1400 [==============================] - 4s 3ms/step - loss: 0.6932 - accuracy: 0.5029 - val_loss: 0.6922 - val_accuracy: 0.5821\n",
      "Epoch 46/50\n",
      "1400/1400 [==============================] - 3s 2ms/step - loss: 0.6932 - accuracy: 0.5029 - val_loss: 0.6922 - val_accuracy: 0.5821\n",
      "Epoch 47/50\n",
      "1400/1400 [==============================] - 3s 2ms/step - loss: 0.6932 - accuracy: 0.5029 - val_loss: 0.6924 - val_accuracy: 0.5821\n",
      "Epoch 48/50\n"
     ]
    },
    {
     "name": "stdout",
     "output_type": "stream",
     "text": [
      "1400/1400 [==============================] - 3s 2ms/step - loss: 0.6932 - accuracy: 0.5029 - val_loss: 0.6921 - val_accuracy: 0.5821\n",
      "Epoch 49/50\n",
      "1400/1400 [==============================] - 3s 2ms/step - loss: 0.6932 - accuracy: 0.5029 - val_loss: 0.6923 - val_accuracy: 0.5821\n",
      "Epoch 50/50\n",
      "1400/1400 [==============================] - 3s 2ms/step - loss: 0.6932 - accuracy: 0.5029 - val_loss: 0.6925 - val_accuracy: 0.5821\n"
     ]
    }
   ],
   "source": [
    "#Activation fuctions to try out\n",
    "activations = ['relu']\n",
    "#                , 'sigmoid', 'tanh']\n",
    "\n",
    "#Dictuionary to store results\n",
    "activation_results = {}\n",
    "\n",
    "for funct in activations:\n",
    "    model = get_model(act_function=funct)\n",
    "    model.summary()\n",
    "    history = model.fit(train_images, train_y, \n",
    "                        validation_data=(test_images, test_y), \n",
    "                        epochs=50)\n",
    "    activation_results[funct] = history"
   ]
  },
  {
   "cell_type": "code",
   "execution_count": 33,
   "metadata": {
    "ExecuteTime": {
     "end_time": "2020-01-21T20:47:09.445266Z",
     "start_time": "2020-01-21T20:47:09.135054Z"
    }
   },
   "outputs": [],
   "source": [
    "model.save_weights('model_wieghts.h5')\n",
    "model.save('model_keras.h5')"
   ]
  },
  {
   "cell_type": "code",
   "execution_count": 34,
   "metadata": {
    "ExecuteTime": {
     "end_time": "2020-01-21T20:47:10.195685Z",
     "start_time": "2020-01-21T20:47:10.188683Z"
    }
   },
   "outputs": [
    {
     "name": "stdout",
     "output_type": "stream",
     "text": [
      "relu returned a max validation accuracy of 0.9571428298950195 and a training data accuracy of 0.9957143\n"
     ]
    }
   ],
   "source": [
    "# print('tanh returned a max validation accuracy of', max(activation_results['tanh'].history['val_accuracy']), 'and a training data accuracy of', max(activation_results['tanh'].history['accuracy']) )\n",
    "print('relu returned a max validation accuracy of', max(activation_results['relu'].history['val_accuracy']), 'and a training data accuracy of', max(activation_results['relu'].history['accuracy']) )\n",
    "# print('sigmoid returned a max validation accuracy of', max(activation_results['sigmoid'].history['val_accuracy']), 'and a training data accuracy of', max(activation_results['sigmoid'].history['accuracy']) )"
   ]
  },
  {
   "cell_type": "code",
   "execution_count": 35,
   "metadata": {
    "ExecuteTime": {
     "end_time": "2020-01-21T20:47:12.364628Z",
     "start_time": "2020-01-21T20:47:12.356613Z"
    }
   },
   "outputs": [],
   "source": [
    "x = np.array(val_images[0:10])\n",
    "test_datagen = ImageDataGenerator(rescale=1./255)"
   ]
  },
  {
   "cell_type": "code",
   "execution_count": 38,
   "metadata": {
    "ExecuteTime": {
     "end_time": "2020-01-21T20:49:49.693107Z",
     "start_time": "2020-01-21T20:49:48.127296Z"
    }
   },
   "outputs": [
    {
     "name": "stdout",
     "output_type": "stream",
     "text": [
      "[[0.52351797]]\n",
      "[[0.5580872]]\n",
      "[[0.5920453]]\n",
      "[[0.5880858]]\n",
      "[[0.6070989]]\n",
      "[[0.51677346]]\n",
      "[[0.5938753]]\n",
      "[[0.61057967]]\n",
      "[[0.591306]]\n",
      "[[0.6330147]]\n"
     ]
    },
    {
     "data": {
      "image/png": "[encoded data removed]",
      "text/plain": [
       "<Figure size 2160x1440 with 10 Axes>"
      ]
     },
     "metadata": {
      "needs_background": "light"
     },
     "output_type": "display_data"
    }
   ],
   "source": [
    "i = 0\n",
    "columns = 5\n",
    "text_labels = []\n",
    "plt.figure(figsize = (30,20))\n",
    "for image in test_datagen.flow(x, batch_size=1):\n",
    "    pred = 0\n",
    "    pred = model.predict(image)\n",
    "    print(pred)\n",
    "    if pred > 0.5:\n",
    "        text_labels.append('Left')\n",
    "    else:\n",
    "        text_labels.append('Right')\n",
    "    plt.subplot(5/columns + 1, columns, i + 1)\n",
    "    plt.title('This is a ' + text_labels[i])\n",
    "    imgplot = plt.imshow(image[0])\n",
    "    i += 1\n",
    "    if i % 10 == 0:\n",
    "        break\n",
    "plt.show()"
   ]
  },
  {
   "cell_type": "markdown",
   "metadata": {},
   "source": [
    "## Second Rough Model from Learn.Co Material"
   ]
  },
  {
   "cell_type": "code",
   "execution_count": null,
   "metadata": {
    "ExecuteTime": {
     "end_time": "2020-01-15T17:17:43.696040Z",
     "start_time": "2020-01-15T17:17:43.686487Z"
    }
   },
   "outputs": [],
   "source": [
    "test_y = np.reshape(test_labels[:,0], (280,1))\n",
    "val_y = np.reshape(val_labels[:,0], (400,1))"
   ]
  },
  {
   "cell_type": "code",
   "execution_count": null,
   "metadata": {
    "ExecuteTime": {
     "end_time": "2020-01-15T21:09:53.319909Z",
     "start_time": "2020-01-15T21:09:53.073980Z"
    }
   },
   "outputs": [],
   "source": [
    "model = models.Sequential()\n",
    "\n",
    "model.add(layers.Conv2D(32, (3, 3), activation='relu',\n",
    "                        input_shape=(200 ,200,  3)))\n",
    "model.add(layers.MaxPooling2D((2, 2)))\n",
    "\n",
    "model.add(layers.Conv2D(32, (4, 4), activation='relu'))\n",
    "model.add(layers.MaxPooling2D((2, 2)))\n",
    "\n",
    "model.add(layers.Conv2D(64, (3, 3), activation='relu'))\n",
    "model.add(layers.MaxPooling2D((2, 2)))\n",
    "\n",
    "model.add(layers.Flatten())\n",
    "model.add(layers.Dense(64, activation='relu'))\n",
    "model.add(layers.Dense(1, activation='sigmoid'))\n",
    "\n",
    "model.compile(loss='binary_crossentropy',\n",
    "              optimizer=\"Adam\",\n",
    "              metrics=['acc'])"
   ]
  },
  {
   "cell_type": "code",
   "execution_count": null,
   "metadata": {
    "ExecuteTime": {
     "end_time": "2020-01-15T22:09:25.437582Z",
     "start_time": "2020-01-15T21:09:54.309395Z"
    },
    "scrolled": true
   },
   "outputs": [],
   "source": [
    "history = model.fit(train_images,\n",
    "                    train_y,\n",
    "                    epochs=200,\n",
    "                    batch_size=32,\n",
    "                    validation_data=(val_images, val_y))"
   ]
  },
  {
   "cell_type": "code",
   "execution_count": null,
   "metadata": {
    "ExecuteTime": {
     "end_time": "2020-01-15T18:33:45.881507Z",
     "start_time": "2020-01-15T18:33:43.967968Z"
    }
   },
   "outputs": [],
   "source": [
    "results_train = model.evaluate(train_images, train_y)"
   ]
  },
  {
   "cell_type": "code",
   "execution_count": null,
   "metadata": {
    "ExecuteTime": {
     "end_time": "2020-01-15T18:33:46.339227Z",
     "start_time": "2020-01-15T18:33:45.884077Z"
    }
   },
   "outputs": [],
   "source": [
    "results_test = model.evaluate(test_images, test_y)"
   ]
  },
  {
   "cell_type": "code",
   "execution_count": null,
   "metadata": {
    "ExecuteTime": {
     "end_time": "2020-01-15T18:33:46.356878Z",
     "start_time": "2020-01-15T18:33:46.343176Z"
    }
   },
   "outputs": [],
   "source": [
    "results_train"
   ]
  },
  {
   "cell_type": "code",
   "execution_count": null,
   "metadata": {
    "ExecuteTime": {
     "end_time": "2020-01-15T18:33:46.378647Z",
     "start_time": "2020-01-15T18:33:46.359979Z"
    }
   },
   "outputs": [],
   "source": [
    "results_test"
   ]
  },
  {
   "cell_type": "markdown",
   "metadata": {},
   "source": [
    "## A simple stack of 3 convolution layers with a ReLU activation and followed by max-pooling layers from Keras blog \"building powerful image classification models using very little data\""
   ]
  },
  {
   "cell_type": "code",
   "execution_count": null,
   "metadata": {
    "ExecuteTime": {
     "end_time": "2020-01-15T20:05:57.740374Z",
     "start_time": "2020-01-15T20:01:03.080745Z"
    }
   },
   "outputs": [],
   "source": [
    "\n",
    "\n",
    "\n",
    "# dimensions of our images.\n",
    "img_width, img_height = 200, 200\n",
    "\n",
    "train_data_dir = 'split/train'\n",
    "validation_data_dir = 'split/validation'\n",
    "nb_train_samples = 700\n",
    "nb_validation_samples = 200\n",
    "epochs = 50\n",
    "batch_size = 16\n",
    "\n",
    "if K.image_data_format() == 'channels_first':\n",
    "    input_shape = (3, img_width, img_height)\n",
    "else:\n",
    "    input_shape = (img_width, img_height, 3)\n",
    "\n",
    "model = Sequential()\n",
    "model.add(Conv2D(32, (3, 3), input_shape=input_shape))\n",
    "model.add(Activation('relu'))\n",
    "model.add(MaxPooling2D(pool_size=(2, 2)))\n",
    "\n",
    "model.add(Conv2D(32, (3, 3)))\n",
    "model.add(Activation('relu'))\n",
    "model.add(MaxPooling2D(pool_size=(2,2)))\n",
    "\n",
    "model.add(Conv2D(64, (3, 3)))\n",
    "model.add(Activation('relu'))\n",
    "model.add(MaxPooling2D(pool_size=(2, 2)))\n",
    "\n",
    "model.add(Flatten())\n",
    "model.add(Dense(64))\n",
    "model.add(Activation('relu'))\n",
    "model.add(Dropout(0.5))\n",
    "model.add(Dense(1))\n",
    "model.add(Activation('sigmoid'))\n",
    "\n",
    "model.compile(loss='binary_crossentropy',\n",
    "              optimizer='rmsprop',\n",
    "              metrics=['accuracy'])\n",
    "\n",
    "# this is the augmentation configuration we will use for training\n",
    "train_datagen = ImageDataGenerator(\n",
    "    rescale=1. / 255,\n",
    "    shear_range=0.2,\n",
    "    zoom_range=0.2,\n",
    "    horizontal_flip=True)\n",
    "\n",
    "# this is the augmentation configuration we will use for testing:\n",
    "# only rescaling\n",
    "test_datagen = ImageDataGenerator(rescale=1. / 255)\n",
    "\n",
    "train_generator = train_datagen.flow_from_directory(\n",
    "    train_data_dir,\n",
    "    target_size=(img_width, img_height),\n",
    "    batch_size=batch_size,\n",
    "    class_mode='binary')\n",
    "\n",
    "validation_generator = test_datagen.flow_from_directory(\n",
    "    validation_data_dir,\n",
    "    target_size=(img_width, img_height),\n",
    "    batch_size=batch_size,\n",
    "    class_mode='binary')\n",
    "\n",
    "model.fit_generator(\n",
    "    train_generator,\n",
    "    steps_per_epoch=nb_train_samples // batch_size,\n",
    "    epochs=epochs,\n",
    "    validation_data=validation_generator,\n",
    "    validation_steps=nb_validation_samples // batch_size)\n",
    "\n",
    "model.save_weights('first_try.h5')"
   ]
  },
  {
   "cell_type": "markdown",
   "metadata": {},
   "source": [
    "## Buddy's Neural Network "
   ]
  },
  {
   "cell_type": "code",
   "execution_count": null,
   "metadata": {},
   "outputs": [],
   "source": [
    "# dimensions of our images.\n",
    "img_width, img_height = 200, 200\n",
    "\n",
    "train_data_dir = 'split/train'\n",
    "validation_data_dir = 'split/validation'\n",
    "train_samples = 700\n",
    "validation_samples = 200\n",
    "epochs = 500\n",
    "batch_size = 50\n",
    "\n",
    "model = Sequential()\n",
    "model.add(Conv2D(32, (3, 3), input_shape=input_shape))\n",
    "model.add(Activation('relu'))\n",
    "model.add(MaxPooling2D(pool_size=(2, 2)))"
   ]
  },
  {
   "cell_type": "code",
   "execution_count": null,
   "metadata": {
    "ExecuteTime": {
     "end_time": "2020-01-16T17:44:34.412768Z",
     "start_time": "2020-01-16T17:44:34.403790Z"
    }
   },
   "outputs": [],
   "source": [
    "array_to_img(train_images[12])"
   ]
  },
  {
   "cell_type": "code",
   "execution_count": null,
   "metadata": {},
   "outputs": [],
   "source": []
  }
 ],
 "metadata": {
  "kernelspec": {
   "display_name": "mynewenv",
   "language": "python",
   "name": "mynewenv"
  },
  "language_info": {
   "codemirror_mode": {
    "name": "ipython",
    "version": 3
   },
   "file_extension": ".py",
   "mimetype": "text/x-python",
   "name": "python",
   "nbconvert_exporter": "python",
   "pygments_lexer": "ipython3",
   "version": "3.6.10"
  },
  "toc": {
   "base_numbering": 1,
   "nav_menu": {},
   "number_sections": false,
   "sideBar": true,
   "skip_h1_title": false,
   "title_cell": "Table of Contents",
   "title_sidebar": "Contents",
   "toc_cell": false,
   "toc_position": {
    "height": "calc(100% - 180px)",
    "left": "10px",
    "top": "150px",
    "width": "165px"
   },
   "toc_section_display": true,
   "toc_window_display": true
  }
 },
 "nbformat": 4,
 "nbformat_minor": 4
}
