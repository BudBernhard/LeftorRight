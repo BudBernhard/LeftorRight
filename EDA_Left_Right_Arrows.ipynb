{
 "cells": [
  {
   "cell_type": "code",
   "execution_count": null,
   "metadata": {},
   "outputs": [],
   "source": [
    "import sys\n",
    "import numpy\n",
    "\n",
    "\n",
    "# Show all rows so that I can make sure that we're actually looking at an image with charachteristics \n",
    "numpy.set_printoptions(threshold=sys.maxsize)\n",
    "\n",
    "# Show an image. \n",
    "img = Image.open(test_folder + '/left/fff3eaacee.png')\n",
    "img.thumbnail((200, 200), Image.ANTIALIAS)  # resizes image in-place\n",
    "imgplot = plt.imshow(img)\n",
    "\n",
    "# Show the array for this image (RGBA)\n",
    "img = mpimg.imread(test_folder + '/left/fff3eaacee.png')\n",
    "print(img)"
   ]
  },
  {
   "cell_type": "code",
   "execution_count": null,
   "metadata": {},
   "outputs": [],
   "source": [
    "# Is the 5th image in the folder a left or right Arrow\n",
    "train_labels[4]"
   ]
  },
  {
   "cell_type": "code",
   "execution_count": null,
   "metadata": {},
   "outputs": [],
   "source": [
    "# What does that image look like (should be a 4 column array RGBA)\n",
    "train_images[4]"
   ]
  },
  {
   "cell_type": "code",
   "execution_count": null,
   "metadata": {},
   "outputs": [],
   "source": [
    "# Show the image of the above array \n",
    "array_to_img(train_images[4])"
   ]
  }
 ],
 "metadata": {
  "kernelspec": {
   "display_name": "mynewenv",
   "language": "python",
   "name": "mynewenv"
  },
  "language_info": {
   "codemirror_mode": {
    "name": "ipython",
    "version": 3
   },
   "file_extension": ".py",
   "mimetype": "text/x-python",
   "name": "python",
   "nbconvert_exporter": "python",
   "pygments_lexer": "ipython3",
   "version": "3.6.10"
  }
 },
 "nbformat": 4,
 "nbformat_minor": 4
}
